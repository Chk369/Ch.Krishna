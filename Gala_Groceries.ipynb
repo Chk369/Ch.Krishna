{
 "cells": [
  {
   "cell_type": "code",
   "execution_count": null,
   "id": "ff04e81c",
   "metadata": {},
   "outputs": [],
   "source": [
    "import warnings\n",
    "warnings.filterwarnings('ignore')\n",
    "\n",
    "import numpy as np\n",
    "import seaborn as sns\n",
    "import matplotlib.pyplot as plt\n",
    "import pandas as pd"
   ]
  },
  {
   "cell_type": "code",
   "execution_count": null,
   "id": "f675b368",
   "metadata": {},
   "outputs": [],
   "source": [
    "sales_df = pd.read_csv('sales.csv')\n",
    "sales_df.drop(columns = ['Unnamed: 0'], inplace = True)\n",
    "sales_df.head()"
   ]
  },
  {
   "cell_type": "code",
   "execution_count": null,
   "id": "ad813484",
   "metadata": {},
   "outputs": [],
   "source": [
    "stock_df = pd.read_csv('sensor_stock_levels.csv')\n",
    "stock_df.drop(columns = ['Unnamed: 0'], inplace = True)\n",
    "stock_df.head()"
   ]
  },
  {
   "cell_type": "code",
   "execution_count": null,
   "id": "ea9ab7f1",
   "metadata": {},
   "outputs": [],
   "source": [
    "temp_df = pd.read_csv('sensor_storage_temperature.csv')\n",
    "temp_df.drop(columns=['Unnamed: 0'],inplace=True,errors='ignore')\n",
    "temp_df.head()"
   ]
  },
  {
   "cell_type": "code",
   "execution_count": null,
   "id": "6a367668",
   "metadata": {},
   "outputs": [],
   "source": [
    "sales_df.info()\n",
    "stock_df.info()\n",
    "temp_df.info()"
   ]
  },
  {
   "cell_type": "code",
   "execution_count": null,
   "id": "15cc9340",
   "metadata": {},
   "outputs": [],
   "source": [
    "sales_df.isna().sum()"
   ]
  },
  {
   "cell_type": "code",
   "execution_count": null,
   "id": "f942bcb3",
   "metadata": {},
   "outputs": [],
   "source": [
    "stock_df.isna().sum()"
   ]
  },
  {
   "cell_type": "code",
   "execution_count": null,
   "id": "6876bfb2",
   "metadata": {},
   "outputs": [],
   "source": [
    "temp_df.isna().sum()"
   ]
  },
  {
   "cell_type": "code",
   "execution_count": null,
   "id": "40184d76",
   "metadata": {},
   "outputs": [],
   "source": [
    "def convert_to_datetime(data: pd.DataFrame = None, column: str = None):\n",
    "    dummy = data.copy()\n",
    "    dummy[column] = pd.to_datetime(dummy[column], format = '%Y-%m-%d %H:%M:%S')\n",
    "    return dummy"
   ]
  },
  {
   "cell_type": "code",
   "execution_count": null,
   "id": "02df6665",
   "metadata": {},
   "outputs": [],
   "source": [
    "sales_df = convert_to_datetime(sales_df, 'timestamp')\n",
    "sales_df.dtypes\n",
    "\n",
    "stock_df = convert_to_datetime(stock_df, 'timestamp')\n",
    "stock_df.dtypes\n",
    "\n",
    "temp_df = convert_to_datetime(temp_df, 'timestamp')\n",
    "temp_df.dtypes"
   ]
  },
  {
   "cell_type": "code",
   "execution_count": null,
   "id": "730efd67",
   "metadata": {},
   "outputs": [],
   "source": [
    "from datetime import datetime\n",
    "\n",
    "def convert_to_hourly(data: pd.DataFrame = None, column: str = None):\n",
    "    dummy = data.copy()\n",
    "    new = dummy[column].tolist()\n",
    "    new = [i.strftime('%Y-%m-%d %H:00:00') for i in new]\n",
    "    new = [datetime.strptime(i,'%Y-%m-%d %H:00:00') for i in new]\n",
    "    dummy[column] = new\n",
    "    return dummy"
   ]
  },
  {
   "cell_type": "code",
   "execution_count": null,
   "id": "ec9b178f",
   "metadata": {},
   "outputs": [],
   "source": [
    "sales_df = convert_to_hourly(sales_df, 'timestamp')\n",
    "sales_df.head()"
   ]
  },
  {
   "cell_type": "code",
   "execution_count": null,
   "id": "3f902649",
   "metadata": {},
   "outputs": [],
   "source": [
    "stock_df = convert_to_hourly(stock_df, 'timestamp')\n",
    "stock_df.head()"
   ]
  },
  {
   "cell_type": "code",
   "execution_count": null,
   "id": "79b36599",
   "metadata": {},
   "outputs": [],
   "source": [
    "temp_df = convert_to_hourly(temp_df, 'timestamp')\n",
    "temp_df.head()"
   ]
  },
  {
   "cell_type": "code",
   "execution_count": null,
   "id": "f1c675a3",
   "metadata": {},
   "outputs": [],
   "source": [
    "sales_agg = sales_df.groupby(['timestamp', 'product_id']).agg({'quantity': 'sum'}).reset_index()\n",
    "sales_agg.head()"
   ]
  },
  {
   "cell_type": "code",
   "execution_count": null,
   "id": "52c641f3",
   "metadata": {},
   "outputs": [],
   "source": [
    "stock_agg = stock_df.groupby(['timestamp', 'product_id']).agg({'estimated_stock_pct': 'mean'}).reset_index()\n",
    "stock_agg.head()"
   ]
  },
  {
   "cell_type": "code",
   "execution_count": null,
   "id": "be6c1430",
   "metadata": {},
   "outputs": [],
   "source": [
    "temp_agg = temp_df.groupby(['timestamp']).agg({'temperature': 'mean'}).reset_index()\n",
    "temp_agg.head()"
   ]
  },
  {
   "cell_type": "code",
   "execution_count": null,
   "id": "72366b49",
   "metadata": {},
   "outputs": [],
   "source": [
    "merged_df = stock_agg.merge(sales_agg, on = ['timestamp', 'product_id'], how = 'left')\n",
    "merged_df.head()"
   ]
  },
  {
   "cell_type": "code",
   "execution_count": null,
   "id": "0b5ee7cc",
   "metadata": {},
   "outputs": [],
   "source": [
    "merged_df = merged_df.merge(temp_agg, on = ['timestamp'], how = 'left')\n",
    "merged_df.head()"
   ]
  },
  {
   "cell_type": "code",
   "execution_count": null,
   "id": "f15adda4",
   "metadata": {},
   "outputs": [],
   "source": [
    "merged_df['quantity'] = merged_df['quantity'].fillna(0)\n",
    "merged_df.info()"
   ]
  },
  {
   "cell_type": "code",
   "execution_count": null,
   "id": "8f373cf5",
   "metadata": {},
   "outputs": [],
   "source": [
    "product_categories = sales_df[['product_id','category']]\n",
    "product_categories = product_categories.drop_duplicates()\n",
    "\n",
    "product_price = sales_df[['product_id','unit_price']]\n",
    "product_price = product_price.drop_duplicates()"
   ]
  },
  {
   "cell_type": "code",
   "execution_count": null,
   "id": "daf4a40a",
   "metadata": {},
   "outputs": [],
   "source": [
    "merged_df = merged_df.merge(product_categories, on = 'product_id', how = 'left')\n",
    "merged_df.head()"
   ]
  },
  {
   "cell_type": "code",
   "execution_count": null,
   "id": "0b237fe2",
   "metadata": {},
   "outputs": [],
   "source": [
    "merged_df = merged_df.merge(product_price, on = 'product_id', how = 'left')\n",
    "merged_df.head()"
   ]
  },
  {
   "cell_type": "code",
   "execution_count": null,
   "id": "33c2ff5b",
   "metadata": {},
   "outputs": [],
   "source": [
    "from sklearn.preprocessing import LabelEncoder\n",
    "le = LabelEncoder()\n",
    "\n",
    "merged_df['category'] = le.fit_transform(merged_df['category'])\n",
    "merged_df.head()"
   ]
  },
  {
   "cell_type": "code",
   "execution_count": null,
   "id": "bc199991",
   "metadata": {},
   "outputs": [],
   "source": [
    "merged_df['timestamp_day_of_month'] = merged_df['timestamp'].dt.day\n",
    "merged_df['timestamp_day_of_week'] = merged_df['timestamp'].dt.dayofweek\n",
    "merged_df['timestamp_day_of_hour'] = merged_df['timestamp'].dt.hour\n",
    "merged_df.drop(columns = ['timestamp'], inplace = True) \n",
    "merged_df.head()"
   ]
  },
  {
   "cell_type": "code",
   "execution_count": null,
   "id": "cdf6e135",
   "metadata": {},
   "outputs": [],
   "source": [
    "merged_df.drop(columns = ['product_id'], inplace = True)\n",
    "merged_df.head()"
   ]
  },
  {
   "cell_type": "code",
   "execution_count": null,
   "id": "a1078318",
   "metadata": {},
   "outputs": [],
   "source": [
    "X = merged_df.drop(columns = ['estimated_stock_pct'])\n",
    "y = merged_df['estimated_stock_pct']"
   ]
  },
  {
   "cell_type": "code",
   "execution_count": null,
   "id": "406b3782",
   "metadata": {},
   "outputs": [],
   "source": [
    "from sklearn.model_selection import train_test_split\n",
    "X_train, X_test, y_train, y_test = train_test_split(X, y, train_size=0.75, random_state=42)"
   ]
  },
  {
   "cell_type": "code",
   "execution_count": null,
   "id": "830435d3",
   "metadata": {},
   "outputs": [],
   "source": [
    "from sklearn.ensemble import RandomForestRegressor\n",
    "model = RandomForestRegressor()\n",
    "model.fit(X_train,y_train)"
   ]
  },
  {
   "cell_type": "code",
   "execution_count": null,
   "id": "22e0f83f",
   "metadata": {},
   "outputs": [],
   "source": [
    "from sklearn.preprocessing import StandardScaler\n",
    "scaler = StandardScaler()\n",
    "scaler.fit(X_train)\n",
    "X_train = scaler.transform(X_train)\n",
    "X_test = scaler.transform(X_test)"
   ]
  },
  {
   "cell_type": "code",
   "execution_count": null,
   "id": "46a3923b",
   "metadata": {},
   "outputs": [],
   "source": [
    "y_pred = model.predict(X_test)"
   ]
  },
  {
   "cell_type": "code",
   "execution_count": null,
   "id": "43f91cd2",
   "metadata": {},
   "outputs": [],
   "source": [
    "model.score(X_test, y_test)"
   ]
  },
  {
   "cell_type": "code",
   "execution_count": null,
   "id": "66385454",
   "metadata": {},
   "outputs": [],
   "source": [
    "from sklearn.metrics import mean_absolute_error\n",
    "\n",
    "accuracy = []\n",
    "for fold in range(0, 10):\n",
    "    mae = mean_absolute_error(y_true=y_test, y_pred=y_pred)\n",
    "accuracy.append(mae)\n",
    "print(f\"Fold {fold + 1}: MAE = {mae:.3f}\")\n",
    "\n",
    "print(f\"Average MAE: {(sum(accuracy) / len(accuracy)):.2f}\")"
   ]
  },
  {
   "cell_type": "code",
   "execution_count": null,
   "id": "9868d226",
   "metadata": {},
   "outputs": [],
   "source": [
    "features = [i.split(\"__\")[0] for i in X.columns]\n",
    "importances = model.feature_importances_\n",
    "indices = np.argsort(importances)\n",
    "\n",
    "fig, ax = plt.subplots(figsize=(5, 5))\n",
    "plt.title('Feature Importances')\n",
    "plt.barh(range(len(indices)), importances[indices], color='b', align='center')\n",
    "plt.yticks(range(len(indices)), [features[i] for i in indices])\n",
    "plt.xlabel('Relative Importance')\n",
    "plt.show()"
   ]
  },
  {
   "cell_type": "code",
   "execution_count": null,
   "id": "9dffa6f5",
   "metadata": {},
   "outputs": [],
   "source": []
  }
 ],
 "metadata": {
  "kernelspec": {
   "display_name": "Python 3 (ipykernel)",
   "language": "python",
   "name": "python3"
  },
  "language_info": {
   "codemirror_mode": {
    "name": "ipython",
    "version": 3
   },
   "file_extension": ".py",
   "mimetype": "text/x-python",
   "name": "python",
   "nbconvert_exporter": "python",
   "pygments_lexer": "ipython3",
   "version": "3.11.5"
  }
 },
 "nbformat": 4,
 "nbformat_minor": 5
}
